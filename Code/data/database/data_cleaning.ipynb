{
 "cells": [
  {
   "cell_type": "code",
   "execution_count": null,
   "metadata": {
    "collapsed": true
   },
   "outputs": [],
   "source": [
    "import pandas as pd"
   ]
  },
  {
   "cell_type": "code",
   "execution_count": null,
   "metadata": {
    "collapsed": false
   },
   "outputs": [],
   "source": [
    "# Prepping FishData_Combines.csv for importing into SQLite database\n",
    "data = pd.read_csv('C:/docs/spring2018/cse6242/project_work/fish_data.csv', sep='\\t')\n",
    "clean = data[ ['LatDeg', 'LatMin', 'LonDeg', 'LonMin', 'StandardLength', 'TotalLength',\n",
    "              'Weight', 'latitude', 'longitude', 'Species of species_table']  ]\n",
    "dates = data['SampleDate']\n",
    "month = []\n",
    "year = []\n",
    "# Format dates per our db standard\n",
    "for date in dates:\n",
    "    arr = date.split('/')\n",
    "    month.append(arr[0])\n",
    "    year.append(arr[2][:4])\n",
    "    \n",
    "clean['month'] = pd.Series(month)\n",
    "clean['year'] = pd.Series(year)\n",
    "clean.to_csv('fishing_data.csv', index=False)"
   ]
  },
  {
   "cell_type": "code",
   "execution_count": null,
   "metadata": {
    "collapsed": false
   },
   "outputs": [],
   "source": [
    "# Prepping krill_data_.csv for importing into SQLite database\n",
    "data = pd.read_csv('C:/docs/spring2018/cse6242/project_work/krill_data.csv', sep='\\t')\n",
    "clean = data[['% Growth', 'Uropod Size (mm)', 'Total Length (mm)', 'position', 'position 2']]\n",
    "dates = data['date']\n",
    "month = []\n",
    "year = []\n",
    "# Format dates per our db standard\n",
    "for date in dates:\n",
    "    arr = date.split('-')\n",
    "    month.append(arr[1])\n",
    "    year.append(arr[2])\n",
    "\n",
    "for i, y in enumerate(year):\n",
    "    year[i] = '19' + y\n",
    "for i, m in enumerate(month):\n",
    "    if m == 'Jan':\n",
    "        month[i] = 1\n",
    "    elif m == 'Feb':\n",
    "        month[i] = 2\n",
    "    elif m == 'Mar':\n",
    "        month[i] = 3\n",
    "    elif m =='Apr':\n",
    "        month[i] == 4\n",
    "    else:\n",
    "        month[i] == 12\n",
    "        \n",
    "clean['month'] = pd.Series(month)\n",
    "clean['year'] = pd.Series(year)\n",
    "clean.to_csv('krill_data_clean.csv', index=False)"
   ]
  }
 ],
 "metadata": {
  "kernelspec": {
   "display_name": "Python 3",
   "language": "python",
   "name": "python3"
  },
  "language_info": {
   "codemirror_mode": {
    "name": "ipython",
    "version": 3
   },
   "file_extension": ".py",
   "mimetype": "text/x-python",
   "name": "python",
   "nbconvert_exporter": "python",
   "pygments_lexer": "ipython3",
   "version": "3.6.0"
  }
 },
 "nbformat": 4,
 "nbformat_minor": 2
}
